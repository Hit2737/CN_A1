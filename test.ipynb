{
 "cells": [
  {
   "cell_type": "code",
   "execution_count": 4,
   "metadata": {},
   "outputs": [],
   "source": [
    "from scapy.all import rdpcap, IP, TCP, UDP, Raw, IPv6"
   ]
  },
  {
   "cell_type": "code",
   "execution_count": 2,
   "metadata": {},
   "outputs": [],
   "source": [
    "# Ensure the PCAP file exists before reading\n",
    "pcap_file = \"0.pcap\"\n",
    "try:\n",
    "    packets = rdpcap(pcap_file)\n",
    "except FileNotFoundError:\n",
    "    print(f\"File {pcap_file} not found\")"
   ]
  },
  {
   "cell_type": "code",
   "execution_count": 6,
   "metadata": {},
   "outputs": [],
   "source": [
    "# ims_ip = \"14.139.98.79\"\n",
    "ims_ip = \"64:ff9b::e8b:624f\""
   ]
  },
  {
   "cell_type": "code",
   "execution_count": null,
   "metadata": {},
   "outputs": [],
   "source": [
    "# ims_ip = \"14.139.98.79\"  # As per nslookup.com\n",
    "ims_ip = \"64:ff9b::e8b:624f\"  # As per nslookup.com\n",
    "unique_connections = set()\n",
    "courses = set()\n",
    "data_transfer = 0\n",
    "superuser_count = 0\n",
    "dt_list = []\n",
    "\n",
    "for pkt in packets:\n",
    "    if IP in pkt:\n",
    "        src_ip = pkt[IP].src\n",
    "        dst_ip = pkt[IP].dst\n",
    "\n",
    "        if dst_ip == ims_ip and (TCP in pkt or UDP in pkt):\n",
    "            unique_connections.add(src_ip)\n",
    "        \n",
    "        if dst_ip == ims_ip and Raw in pkt:\n",
    "            payload = pkt[Raw].load.decode(errors='ignore')\n",
    "            if \"course\" in payload.lower():\n",
    "                courses.add(payload)\n",
    "        \n",
    "        # if (TCP in pkt and (pkt[TCP].sport == 4321 or pkt[TCP].dport == 4321)) or (UDP in pkt and (pkt[UDP].sport == 4321 or pkt[UDP].dport == 4321)):\n",
    "        protocol = TCP if TCP in pkt else UDP if UDP in pkt else None\n",
    "        if protocol and (pkt[protocol].sport == 4321 or pkt[protocol].dport == 4321):\n",
    "            data_transfer += len(pkt)\n",
    "            dt_list.append(pkt)\n",
    "        \n",
    "        if Raw in pkt:\n",
    "            payload = pkt[Raw].load.decode(errors='ignore')\n",
    "            superuser_count += payload.lower().count(\"superuser\")"
   ]
  },
  {
   "cell_type": "code",
   "execution_count": 12,
   "metadata": {},
   "outputs": [],
   "source": [
    "port_packets, ims_packets = [], []\n",
    "for packet in packets:\n",
    "    if IP in packet:\n",
    "        src_ip = packet[IP].src\n",
    "        dst_ip = packet[IP].dst\n",
    "        if dst_ip == ims_ip:\n",
    "            ims_packets.append(packet)\n",
    "        \n",
    "        protocol = TCP if TCP in packet else UDP if UDP in packet else None\n",
    "        if protocol and (packet[protocol].sport == 4321 or packet[protocol].dport == 4321):\n",
    "            port_packets.append(packet)"
   ]
  },
  {
   "cell_type": "code",
   "execution_count": 13,
   "metadata": {},
   "outputs": [
    {
     "data": {
      "text/plain": [
       "[<Ether  dst=2c:41:38:1d:e9:40 src=00:90:7f:3e:02:d0 type=IPv4 |<IP  version=4 ihl=5 tos=0x0 len=103 id=17453 flags= frag=0 ttl=126 proto=udp chksum=0x9996 src=172.16.128.169 dst=172.16.133.248 |<UDP  sport=rwhois dport=snmp len=83 chksum=0x9082 |<SNMP  version='v1' 0x0 <ASN1_INTEGER[0]> community=<ASN1_STRING[b'public']> PDU=<SNMPget  id=0x491c2f5 <ASN1_INTEGER[76661493]> error='no_error' 0x0 <ASN1_INTEGER[0]> error_index=0x0 <ASN1_INTEGER[0]> varbindlist=[<SNMPvarbind  oid=<ASN1_OID['.1.3.6.1.2.1.2.2.1.10.18']> value=<ASN1_NULL[0]> noSuchObject=None noSuchInstance=None endOfMibView=None |>, <SNMPvarbind  oid=<ASN1_OID['.1.3.6.1.2.1.2.2.1.16.18']> value=<ASN1_NULL[0]> noSuchObject=None noSuchInstance=None endOfMibView=None |>, <SNMPvarbind  oid=<ASN1_OID['.1.3.6.1.2.1.1.3.0']> value=<ASN1_NULL[0]> noSuchObject=None noSuchInstance=None endOfMibView=None |>] |> |>>>>,\n",
       " <Ether  dst=00:90:7f:3e:02:d0 src=2c:41:38:1d:e9:40 type=IPv4 |<IP  version=4 ihl=5 tos=0x0 len=115 id=62980 flags= frag=0 ttl=64 proto=udp chksum=0x25b3 src=172.16.133.248 dst=172.16.128.169 |<UDP  sport=snmp dport=rwhois len=95 chksum=0xfeea |<SNMP  version='v1' 0x0 <ASN1_INTEGER[0]> community=<ASN1_STRING[b'public']> PDU=<SNMPresponse  id=0x491c2f5 <ASN1_INTEGER[76661493]> error='no_error' 0x0 <ASN1_INTEGER[0]> error_index=0x0 <ASN1_INTEGER[0]> varbindlist=[<SNMPvarbind  oid=<ASN1_OID['.1.3.6.1.2.1.2.2.1.10.18']> value=0x2745029c <ASN1_COUNTER32[658834076]> noSuchObject=None noSuchInstance=None endOfMibView=None |>, <SNMPvarbind  oid=<ASN1_OID['.1.3.6.1.2.1.2.2.1.16.18']> value=0x3ea39841 <ASN1_COUNTER32[1050908737]> noSuchObject=None noSuchInstance=None endOfMibView=None |>, <SNMPvarbind  oid=<ASN1_OID['.1.3.6.1.2.1.1.3.0']> value=0x1f4b8a6 <ASN1_TIME_TICKS[32815270]> noSuchObject=None noSuchInstance=None endOfMibView=None |>] |> |>>>>]"
      ]
     },
     "execution_count": 13,
     "metadata": {},
     "output_type": "execute_result"
    }
   ],
   "source": [
    "port_packets"
   ]
  },
  {
   "cell_type": "code",
   "execution_count": 14,
   "metadata": {},
   "outputs": [
    {
     "data": {
      "text/plain": [
       "246"
      ]
     },
     "execution_count": 14,
     "metadata": {},
     "output_type": "execute_result"
    }
   ],
   "source": [
    "sum([len(packet) for packet in port_packets])"
   ]
  },
  {
   "cell_type": "code",
   "execution_count": 43,
   "metadata": {},
   "outputs": [
    {
     "name": "stdout",
     "output_type": "stream",
     "text": [
      "###[ Ethernet ]###\n",
      "  dst       = 2c:41:38:1d:e9:40\n",
      "  src       = 00:90:7f:3e:02:d0\n",
      "  type      = IPv4\n",
      "###[ IP ]###\n",
      "     version   = 4\n",
      "     ihl       = 5\n",
      "     tos       = 0x0\n",
      "     len       = 103\n",
      "     id        = 17453\n",
      "     flags     = \n",
      "     frag      = 0\n",
      "     ttl       = 126\n",
      "     proto     = udp\n",
      "     chksum    = 0x9996\n",
      "     src       = 172.16.128.169\n",
      "     dst       = 172.16.133.248\n",
      "     \\options   \\\n",
      "###[ UDP ]###\n",
      "        sport     = rwhois\n",
      "        dport     = snmp\n",
      "        len       = 83\n",
      "        chksum    = 0x9082\n",
      "###[ SNMP ]###\n",
      "           version   = 'v1' 0x0 <ASN1_INTEGER[0]>\n",
      "           community = <ASN1_STRING[b'public']>\n",
      "           \\PDU       \\\n",
      "            |###[ SNMPget ]###\n",
      "            |  id        = 0x491c2f5 <ASN1_INTEGER[76661493]>\n",
      "            |  error     = 'no_error' 0x0 <ASN1_INTEGER[0]>\n",
      "            |  error_index= 0x0 <ASN1_INTEGER[0]>\n",
      "            |  \\varbindlist\\\n",
      "            |   |###[ SNMPvarbind ]###\n",
      "            |   |  oid       = <ASN1_OID['.1.3.6.1.2.1.2.2.1.10.18']>\n",
      "            |   |  value     = <ASN1_NULL[0]>\n",
      "            |   |  noSuchObject= None\n",
      "            |   |  noSuchInstance= None\n",
      "            |   |  endOfMibView= None\n",
      "            |   |###[ SNMPvarbind ]###\n",
      "            |   |  oid       = <ASN1_OID['.1.3.6.1.2.1.2.2.1.16.18']>\n",
      "            |   |  value     = <ASN1_NULL[0]>\n",
      "            |   |  noSuchObject= None\n",
      "            |   |  noSuchInstance= None\n",
      "            |   |  endOfMibView= None\n",
      "            |   |###[ SNMPvarbind ]###\n",
      "            |   |  oid       = <ASN1_OID['.1.3.6.1.2.1.1.3.0']>\n",
      "            |   |  value     = <ASN1_NULL[0]>\n",
      "            |   |  noSuchObject= None\n",
      "            |   |  noSuchInstance= None\n",
      "            |   |  endOfMibView= None\n",
      "\n"
     ]
    }
   ],
   "source": [
    "port_packets[0].show2()"
   ]
  },
  {
   "cell_type": "code",
   "execution_count": 22,
   "metadata": {},
   "outputs": [
    {
     "name": "stdout",
     "output_type": "stream",
     "text": [
      "Q1: Unique connections to IMS server: 0\n",
      "Q2: Registered Courses: set()\n",
      "Q3: Total data transferred on port 4321: 246 bytes\n",
      "Q4: Total number of SuperUsers: 0\n"
     ]
    }
   ],
   "source": [
    "# Print Results\n",
    "print(f\"Q1: Unique connections to IMS server: {len(unique_connections)}\")\n",
    "print(f\"Q2: Registered Courses: {courses}\")\n",
    "print(f\"Q3: Total data transferred on port 4321: {data_transfer} bytes\")\n",
    "print(f\"Q4: Total number of SuperUsers: {superuser_count}\")"
   ]
  },
  {
   "cell_type": "code",
   "execution_count": 23,
   "metadata": {},
   "outputs": [
    {
     "data": {
      "text/plain": [
       "[<Ether  dst=2c:41:38:1d:e9:40 src=00:90:7f:3e:02:d0 type=IPv4 |<IP  version=4 ihl=5 tos=0x0 len=103 id=17453 flags= frag=0 ttl=126 proto=udp chksum=0x9996 src=172.16.128.169 dst=172.16.133.248 |<UDP  sport=4321 dport=snmp len=83 chksum=0x9082 |<SNMP  version='v1' 0x0 <ASN1_INTEGER[0]> community=<ASN1_STRING[b'public']> PDU=<SNMPget  id=0x491c2f5 <ASN1_INTEGER[76661493]> error='no_error' 0x0 <ASN1_INTEGER[0]> error_index=0x0 <ASN1_INTEGER[0]> varbindlist=[<SNMPvarbind  oid=<ASN1_OID['.1.3.6.1.2.1.2.2.1.10.18']> value=<ASN1_NULL[0]> noSuchObject=None noSuchInstance=None endOfMibView=None |>, <SNMPvarbind  oid=<ASN1_OID['.1.3.6.1.2.1.2.2.1.16.18']> value=<ASN1_NULL[0]> noSuchObject=None noSuchInstance=None endOfMibView=None |>, <SNMPvarbind  oid=<ASN1_OID['.1.3.6.1.2.1.1.3.0']> value=<ASN1_NULL[0]> noSuchObject=None noSuchInstance=None endOfMibView=None |>] |> |>>>>,\n",
       " <Ether  dst=00:90:7f:3e:02:d0 src=2c:41:38:1d:e9:40 type=IPv4 |<IP  version=4 ihl=5 tos=0x0 len=115 id=62980 flags= frag=0 ttl=64 proto=udp chksum=0x25b3 src=172.16.133.248 dst=172.16.128.169 |<UDP  sport=snmp dport=4321 len=95 chksum=0xfeea |<SNMP  version='v1' 0x0 <ASN1_INTEGER[0]> community=<ASN1_STRING[b'public']> PDU=<SNMPresponse  id=0x491c2f5 <ASN1_INTEGER[76661493]> error='no_error' 0x0 <ASN1_INTEGER[0]> error_index=0x0 <ASN1_INTEGER[0]> varbindlist=[<SNMPvarbind  oid=<ASN1_OID['.1.3.6.1.2.1.2.2.1.10.18']> value=0x2745029c <ASN1_COUNTER32[658834076]> noSuchObject=None noSuchInstance=None endOfMibView=None |>, <SNMPvarbind  oid=<ASN1_OID['.1.3.6.1.2.1.2.2.1.16.18']> value=0x3ea39841 <ASN1_COUNTER32[1050908737]> noSuchObject=None noSuchInstance=None endOfMibView=None |>, <SNMPvarbind  oid=<ASN1_OID['.1.3.6.1.2.1.1.3.0']> value=0x1f4b8a6 <ASN1_TIME_TICKS[32815270]> noSuchObject=None noSuchInstance=None endOfMibView=None |>] |> |>>>>]"
      ]
     },
     "execution_count": 23,
     "metadata": {},
     "output_type": "execute_result"
    }
   ],
   "source": [
    "dt_list"
   ]
  },
  {
   "cell_type": "code",
   "execution_count": 24,
   "metadata": {},
   "outputs": [
    {
     "name": "stdout",
     "output_type": "stream",
     "text": [
      "###[ Ethernet ]###\n",
      "  dst       = 2c:41:38:1d:e9:40\n",
      "  src       = 00:90:7f:3e:02:d0\n",
      "  type      = IPv4\n",
      "###[ IP ]###\n",
      "     version   = 4\n",
      "     ihl       = 5\n",
      "     tos       = 0x0\n",
      "     len       = 103\n",
      "     id        = 17453\n",
      "     flags     = \n",
      "     frag      = 0\n",
      "     ttl       = 126\n",
      "     proto     = udp\n",
      "     chksum    = 0x9996\n",
      "     src       = 172.16.128.169\n",
      "     dst       = 172.16.133.248\n",
      "     \\options   \\\n",
      "###[ UDP ]###\n",
      "        sport     = 4321\n",
      "        dport     = snmp\n",
      "        len       = 83\n",
      "        chksum    = 0x9082\n",
      "###[ SNMP ]###\n",
      "           version   = 'v1' 0x0 <ASN1_INTEGER[0]>\n",
      "           community = <ASN1_STRING[b'public']>\n",
      "           \\PDU       \\\n",
      "            |###[ SNMPget ]###\n",
      "            |  id        = 0x491c2f5 <ASN1_INTEGER[76661493]>\n",
      "            |  error     = 'no_error' 0x0 <ASN1_INTEGER[0]>\n",
      "            |  error_index= 0x0 <ASN1_INTEGER[0]>\n",
      "            |  \\varbindlist\\\n",
      "            |   |###[ SNMPvarbind ]###\n",
      "            |   |  oid       = <ASN1_OID['.1.3.6.1.2.1.2.2.1.10.18']>\n",
      "            |   |  value     = <ASN1_NULL[0]>\n",
      "            |   |  noSuchObject= None\n",
      "            |   |  noSuchInstance= None\n",
      "            |   |  endOfMibView= None\n",
      "            |   |###[ SNMPvarbind ]###\n",
      "            |   |  oid       = <ASN1_OID['.1.3.6.1.2.1.2.2.1.16.18']>\n",
      "            |   |  value     = <ASN1_NULL[0]>\n",
      "            |   |  noSuchObject= None\n",
      "            |   |  noSuchInstance= None\n",
      "            |   |  endOfMibView= None\n",
      "            |   |###[ SNMPvarbind ]###\n",
      "            |   |  oid       = <ASN1_OID['.1.3.6.1.2.1.1.3.0']>\n",
      "            |   |  value     = <ASN1_NULL[0]>\n",
      "            |   |  noSuchObject= None\n",
      "            |   |  noSuchInstance= None\n",
      "            |   |  endOfMibView= None\n",
      "\n",
      "###[ Ethernet ]###\n",
      "  dst       = 00:90:7f:3e:02:d0\n",
      "  src       = 2c:41:38:1d:e9:40\n",
      "  type      = IPv4\n",
      "###[ IP ]###\n",
      "     version   = 4\n",
      "     ihl       = 5\n",
      "     tos       = 0x0\n",
      "     len       = 115\n",
      "     id        = 62980\n",
      "     flags     = \n",
      "     frag      = 0\n",
      "     ttl       = 64\n",
      "     proto     = udp\n",
      "     chksum    = 0x25b3\n",
      "     src       = 172.16.133.248\n",
      "     dst       = 172.16.128.169\n",
      "     \\options   \\\n",
      "###[ UDP ]###\n",
      "        sport     = snmp\n",
      "        dport     = 4321\n",
      "        len       = 95\n",
      "        chksum    = 0xfeea\n",
      "###[ SNMP ]###\n",
      "           version   = 'v1' 0x0 <ASN1_INTEGER[0]>\n",
      "           community = <ASN1_STRING[b'public']>\n",
      "           \\PDU       \\\n",
      "            |###[ SNMPresponse ]###\n",
      "            |  id        = 0x491c2f5 <ASN1_INTEGER[76661493]>\n",
      "            |  error     = 'no_error' 0x0 <ASN1_INTEGER[0]>\n",
      "            |  error_index= 0x0 <ASN1_INTEGER[0]>\n",
      "            |  \\varbindlist\\\n",
      "            |   |###[ SNMPvarbind ]###\n",
      "            |   |  oid       = <ASN1_OID['.1.3.6.1.2.1.2.2.1.10.18']>\n",
      "            |   |  value     = 0x2745029c <ASN1_COUNTER32[658834076]>\n",
      "            |   |  noSuchObject= None\n",
      "            |   |  noSuchInstance= None\n",
      "            |   |  endOfMibView= None\n",
      "            |   |###[ SNMPvarbind ]###\n",
      "            |   |  oid       = <ASN1_OID['.1.3.6.1.2.1.2.2.1.16.18']>\n",
      "            |   |  value     = 0x3ea39841 <ASN1_COUNTER32[1050908737]>\n",
      "            |   |  noSuchObject= None\n",
      "            |   |  noSuchInstance= None\n",
      "            |   |  endOfMibView= None\n",
      "            |   |###[ SNMPvarbind ]###\n",
      "            |   |  oid       = <ASN1_OID['.1.3.6.1.2.1.1.3.0']>\n",
      "            |   |  value     = 0x1f4b8a6 <ASN1_TIME_TICKS[32815270]>\n",
      "            |   |  noSuchObject= None\n",
      "            |   |  noSuchInstance= None\n",
      "            |   |  endOfMibView= None\n",
      "\n"
     ]
    }
   ],
   "source": [
    "for pkt in dt_list:\n",
    "    pkt.show()"
   ]
  }
 ],
 "metadata": {
  "kernelspec": {
   "display_name": "base",
   "language": "python",
   "name": "python3"
  },
  "language_info": {
   "codemirror_mode": {
    "name": "ipython",
    "version": 3
   },
   "file_extension": ".py",
   "mimetype": "text/x-python",
   "name": "python",
   "nbconvert_exporter": "python",
   "pygments_lexer": "ipython3",
   "version": "3.9.16"
  }
 },
 "nbformat": 4,
 "nbformat_minor": 2
}
