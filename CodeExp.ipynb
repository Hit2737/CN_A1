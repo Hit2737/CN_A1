{
 "cells": [
  {
   "cell_type": "markdown",
   "metadata": {},
   "source": [
    "### Go Through The Code"
   ]
  },
  {
   "cell_type": "code",
   "execution_count": 1,
   "metadata": {},
   "outputs": [],
   "source": [
    "from scapy.all import rdpcap, IP, TCP, UDP, ICMP, Raw, IPv6\n",
    "from collections import defaultdict"
   ]
  },
  {
   "cell_type": "code",
   "execution_count": 2,
   "metadata": {},
   "outputs": [],
   "source": [
    "pcap_file = \"0.pcap\"\n",
    "try:\n",
    "    packets = rdpcap(pcap_file)\n",
    "except FileNotFoundError:\n",
    "    print(f\"File {pcap_file} not found\")"
   ]
  },
  {
   "cell_type": "code",
   "execution_count": 3,
   "metadata": {},
   "outputs": [
    {
     "name": "stdout",
     "output_type": "stream",
     "text": [
      "###[ Ethernet ]###\n",
      "  dst       = 00:1a:8c:15:f9:80\n",
      "  src       = 40:61:86:9a:f1:f5\n",
      "  type      = IPv4\n",
      "###[ IP ]###\n",
      "     version   = 4\n",
      "     ihl       = 5\n",
      "     tos       = 0x0\n",
      "     len       = 40\n",
      "     id        = 17344\n",
      "     flags     = DF\n",
      "     frag      = 0\n",
      "     ttl       = 128\n",
      "     proto     = tcp\n",
      "     chksum    = 0x526a\n",
      "     src       = 192.168.3.131\n",
      "     dst       = 65.54.95.68\n",
      "     \\options   \\\n",
      "###[ TCP ]###\n",
      "        sport     = 56511\n",
      "        dport     = http\n",
      "        seq       = 3457485297\n",
      "        ack       = 1036685706\n",
      "        dataofs   = 5\n",
      "        reserved  = 0\n",
      "        flags     = A\n",
      "        window    = 16425\n",
      "        chksum    = 0x869a\n",
      "        urgptr    = 0\n",
      "        options   = []\n",
      "\n"
     ]
    }
   ],
   "source": [
    "packet = packets[100]\n",
    "packet.show()"
   ]
  },
  {
   "cell_type": "code",
   "execution_count": 26,
   "metadata": {},
   "outputs": [],
   "source": [
    "protocols = defaultdict(int)\n",
    "count = 0\n",
    "for packet in packets:\n",
    "    if IP in packet:\n",
    "        protocols[packet[IP].proto] += 1\n",
    "        # if packet[IP].proto == 0 and count == 0:\n",
    "        #     icmp_packet = packet\n",
    "        #     count += 1\n",
    "    if IPv6 in packet:\n",
    "        protocols[packet[IPv6].nh] += 1"
   ]
  },
  {
   "cell_type": "code",
   "execution_count": 25,
   "metadata": {},
   "outputs": [
    {
     "name": "stdout",
     "output_type": "stream",
     "text": [
      "###[ Ethernet ]###\n",
      "  dst       = 00:90:7f:3e:02:d0\n",
      "  src       = 30:e4:db:b1:58:60\n",
      "  type      = IPv4\n",
      "###[ IP ]###\n",
      "     version   = 4\n",
      "     ihl       = 5\n",
      "     tos       = 0x0\n",
      "     len       = 64\n",
      "     id        = 30923\n",
      "     flags     = \n",
      "     frag      = 0\n",
      "     ttl       = 255\n",
      "     proto     = icmp\n",
      "     chksum    = 0xe3e8\n",
      "     src       = 172.16.133.233\n",
      "     dst       = 172.16.128.254\n",
      "     \\options   \\\n",
      "###[ ICMP ]###\n",
      "        type      = echo-request\n",
      "        code      = 0\n",
      "        chksum    = 0x5d98\n",
      "        id        = 0x766\n",
      "        seq       = 0x4\n",
      "        unused    = b''\n",
      "###[ Raw ]###\n",
      "           load      = b'\\x00\\x00\\x00\\x00\\x13\\x8a\\x1a4\\xab\\xcd\\xab\\xcd\\xab\\xcd\\xab\\xcd\\xab\\xcd\\xab\\xcd\\xab\\xcd\\xab\\xcd\\xab\\xcd\\xab\\xcd\\xab\\xcd\\xab\\xcd\\xab\\xcd\\xab\\xcd'\n",
      "\n"
     ]
    }
   ],
   "source": [
    "igmp_packet.show()"
   ]
  },
  {
   "cell_type": "code",
   "execution_count": 22,
   "metadata": {},
   "outputs": [
    {
     "name": "stdout",
     "output_type": "stream",
     "text": [
      "###[ Ethernet ]###\n",
      "  dst       = 33:33:00:00:00:16\n",
      "  src       = c0:18:85:5a:f9:e2\n",
      "  type      = IPv6\n",
      "###[ IPv6 ]###\n",
      "     version   = 6\n",
      "     tc        = 0\n",
      "     fl        = 0\n",
      "     plen      = 76\n",
      "     nh        = Hop-by-Hop Option Header\n",
      "     hlim      = 1\n",
      "     src       = fe80::3d1c:9cea:dce1:314b\n",
      "     dst       = ff02::16\n",
      "###[ IPv6 Extension Header - Hop-by-Hop Options Header ]###\n",
      "        nh        = ICMPv6\n",
      "        len       = 0\n",
      "        autopad   = On\n",
      "        \\options   \\\n",
      "         |###[ Router Alert ]###\n",
      "         |  otype     = Router Alert [00: skip, 0: Don't change en-route]\n",
      "         |  optlen    = 2\n",
      "         |  value     = Datagram contains a MLD message\n",
      "         |###[ PadN ]###\n",
      "         |  otype     = PadN [00: skip, 0: Don't change en-route]\n",
      "         |  optlen    = 0\n",
      "         |  optdata   = b''\n",
      "###[ MLDv2 - Multicast Listener Report ]###\n",
      "           type      = MLD Report Version 2\n",
      "           res       = 0\n",
      "           cksum     = 0x5669\n",
      "           reserved  = 0\n",
      "           records_number= 3\n",
      "           \\records   \\\n",
      "            |###[ ICMPv6 MLDv2 - Multicast Address Record ]###\n",
      "            |  rtype     = 2\n",
      "            |  auxdata_len= 0\n",
      "            |  sources_number= 0\n",
      "            |  dst       = ff02::1:ffe1:314b\n",
      "            |  sources   = [  ]\n",
      "            |  auxdata   = b''\n",
      "            |###[ ICMPv6 MLDv2 - Multicast Address Record ]###\n",
      "            |     rtype     = 2\n",
      "            |     auxdata_len= 0\n",
      "            |     sources_number= 0\n",
      "            |     dst       = ff02::c\n",
      "            |     sources   = [  ]\n",
      "            |     auxdata   = b''\n",
      "            |###[ ICMPv6 MLDv2 - Multicast Address Record ]###\n",
      "            |        rtype     = 2\n",
      "            |        auxdata_len= 0\n",
      "            |        sources_number= 0\n",
      "            |        dst       = ff02::1:3\n",
      "            |        sources   = [  ]\n",
      "            |        auxdata   = b''\n",
      "\n"
     ]
    }
   ],
   "source": [
    "hop_packet.show()"
   ]
  },
  {
   "cell_type": "code",
   "execution_count": 27,
   "metadata": {},
   "outputs": [
    {
     "name": "stdout",
     "output_type": "stream",
     "text": [
      "###[ IP ]###\n",
      "  version   = 4\n",
      "  ihl       = 5\n",
      "  tos       = 0x0\n",
      "  len       = 64\n",
      "  id        = 30923\n",
      "  flags     = \n",
      "  frag      = 0\n",
      "  ttl       = 255\n",
      "  proto     = icmp\n",
      "  chksum    = 0xe3e8\n",
      "  src       = 172.16.133.233\n",
      "  dst       = 172.16.128.254\n",
      "  \\options   \\\n",
      "###[ ICMP ]###\n",
      "     type      = echo-request\n",
      "     code      = 0\n",
      "     chksum    = 0x5d98\n",
      "     id        = 0x766\n",
      "     seq       = 0x4\n",
      "     unused    = b''\n",
      "###[ Raw ]###\n",
      "        load      = b'\\x00\\x00\\x00\\x00\\x13\\x8a\\x1a4\\xab\\xcd\\xab\\xcd\\xab\\xcd\\xab\\xcd\\xab\\xcd\\xab\\xcd\\xab\\xcd\\xab\\xcd\\xab\\xcd\\xab\\xcd\\xab\\xcd\\xab\\xcd\\xab\\xcd\\xab\\xcd'\n",
      "\n"
     ]
    }
   ],
   "source": [
    "icmp_packet.show()"
   ]
  },
  {
   "cell_type": "markdown",
   "metadata": {},
   "source": [
    "Different Type of Protocols Found During the sniff"
   ]
  },
  {
   "cell_type": "code",
   "execution_count": 12,
   "metadata": {},
   "outputs": [
    {
     "data": {
      "text/plain": [
       "defaultdict(int, {6: 647721, 17: 153636, 1: 4300, 2: 286, 0: 34})"
      ]
     },
     "execution_count": 12,
     "metadata": {},
     "output_type": "execute_result"
    }
   ],
   "source": [
    "protocols "
   ]
  },
  {
   "cell_type": "code",
   "execution_count": 7,
   "metadata": {},
   "outputs": [
    {
     "data": {
      "text/plain": [
       "6"
      ]
     },
     "execution_count": 7,
     "metadata": {},
     "output_type": "execute_result"
    }
   ],
   "source": [
    "packet[IP].proto"
   ]
  },
  {
   "cell_type": "code",
   "execution_count": 8,
   "metadata": {},
   "outputs": [],
   "source": [
    "# ims_ips = [\"14.139.98.79\", \"10.0.137.79\", \"64:ff9b::e8b:624f\"]  # From nslookup.com and by trying \n",
    "ims_ip = \"10.0.137.79\""
   ]
  },
  {
   "cell_type": "code",
   "execution_count": 9,
   "metadata": {},
   "outputs": [],
   "source": [
    "port_packets, unique_conn_to_ims, all_ims_packets, ims_dst_packets = [], defaultdict(int), [], []\n",
    "super_users = 0\n",
    "for packet in packets:\n",
    "    IPv = IP if IP in packet else IPv6 if IPv6 in packet else None\n",
    "    if IPv and IPv in packet:\n",
    "        src_ip = packet[IPv].src\n",
    "        dst_ip = packet[IPv].dst\n",
    "        \n",
    "        if dst_ip == ims_ip:\n",
    "            ims_dst_packets.append(packet)\n",
    "            all_ims_packets.append(packet)\n",
    "        \n",
    "        if src_ip == ims_ip:\n",
    "            all_ims_packets.append(packet)\n",
    "        \n",
    "        protocol = TCP if TCP in packet else UDP if UDP in packet else None\n",
    "        if protocol:\n",
    "            src_port = packet[protocol].sport\n",
    "            dst_port = packet[protocol].dport\n",
    "            unique_conn_to_ims[f\"{src_ip}:{src_port} -> {dst_ip}:{dst_port}\"] += 1\n",
    "            \n",
    "        if protocol and (packet[protocol].sport == 4321 or packet[protocol].dport == 4321):\n",
    "            port_packets.append(packet)\n",
    "        \n",
    "        if Raw in packet:\n",
    "            payload = packet[Raw].load.decode(errors='ignore')\n",
    "            super_users += payload.lower().count(\"superuser\") > 0"
   ]
  },
  {
   "cell_type": "code",
   "execution_count": 10,
   "metadata": {},
   "outputs": [
    {
     "data": {
      "text/plain": [
       "[<Ether  dst=66:77:88:99:aa:bb src=00:11:22:33:44:55 type=IPv4 |<IP  version=4 ihl=5 tos=0x0 len=40 id=1 flags= frag=0 ttl=64 proto=tcp chksum=0xd104 src=10.1.12.123 dst=10.0.137.79 |<TCP  sport=1234 dport=4321 seq=0 ack=0 dataofs=5 reserved=0 flags=S window=8192 chksum=0xd064 urgptr=0 |>>>,\n",
       " <Ether  dst=66:77:88:99:aa:bb src=00:11:22:33:44:55 type=IPv4 |<IP  version=4 ihl=5 tos=0x0 len=40 id=1 flags= frag=0 ttl=64 proto=tcp chksum=0xd104 src=10.1.12.123 dst=10.0.137.79 |<TCP  sport=1234 dport=4321 seq=0 ack=0 dataofs=5 reserved=0 flags=S window=8192 chksum=0xd064 urgptr=0 |>>>,\n",
       " <Ether  dst=66:77:88:99:aa:bb src=00:11:22:33:44:55 type=IPv4 |<IP  version=4 ihl=5 tos=0x0 len=40 id=1 flags= frag=0 ttl=64 proto=tcp chksum=0xd104 src=10.1.12.123 dst=10.0.137.79 |<TCP  sport=1234 dport=4321 seq=0 ack=0 dataofs=5 reserved=0 flags=S window=8192 chksum=0xd064 urgptr=0 |>>>,\n",
       " <Ether  dst=66:77:88:99:aa:bb src=00:11:22:33:44:55 type=IPv4 |<IP  version=4 ihl=5 tos=0x0 len=40 id=1 flags= frag=0 ttl=64 proto=tcp chksum=0xd104 src=10.1.12.123 dst=10.0.137.79 |<TCP  sport=1234 dport=4321 seq=0 ack=0 dataofs=5 reserved=0 flags=S window=8192 chksum=0xd064 urgptr=0 |>>>,\n",
       " <Ether  dst=66:77:88:99:aa:bb src=00:11:22:33:44:55 type=IPv4 |<IP  version=4 ihl=5 tos=0x0 len=40 id=1 flags= frag=0 ttl=64 proto=tcp chksum=0xd104 src=10.1.12.123 dst=10.0.137.79 |<TCP  sport=1234 dport=4321 seq=0 ack=0 dataofs=5 reserved=0 flags=S window=8192 chksum=0xd064 urgptr=0 |>>>,\n",
       " <Ether  dst=66:77:88:99:aa:bb src=00:11:22:33:44:55 type=IPv4 |<IP  version=4 ihl=5 tos=0x0 len=40 id=1 flags= frag=0 ttl=64 proto=tcp chksum=0xd104 src=10.1.12.123 dst=10.0.137.79 |<TCP  sport=1234 dport=4321 seq=0 ack=0 dataofs=5 reserved=0 flags=S window=8192 chksum=0xd064 urgptr=0 |>>>,\n",
       " <Ether  dst=66:77:88:99:aa:bb src=00:11:22:33:44:55 type=IPv4 |<IP  version=4 ihl=5 tos=0x0 len=40 id=1 flags= frag=0 ttl=64 proto=tcp chksum=0xd104 src=10.1.12.123 dst=10.0.137.79 |<TCP  sport=1234 dport=4321 seq=0 ack=0 dataofs=5 reserved=0 flags=S window=8192 chksum=0xd064 urgptr=0 |>>>,\n",
       " <Ether  dst=66:77:88:99:aa:bb src=00:11:22:33:44:55 type=IPv4 |<IP  version=4 ihl=5 tos=0x0 len=40 id=1 flags= frag=0 ttl=64 proto=tcp chksum=0xd104 src=10.1.12.123 dst=10.0.137.79 |<TCP  sport=1234 dport=4321 seq=0 ack=0 dataofs=5 reserved=0 flags=S window=8192 chksum=0xd064 urgptr=0 |>>>,\n",
       " <Ether  dst=66:77:88:99:aa:bb src=00:11:22:33:44:55 type=IPv4 |<IP  version=4 ihl=5 tos=0x0 len=40 id=1 flags= frag=0 ttl=64 proto=tcp chksum=0xd104 src=10.1.12.123 dst=10.0.137.79 |<TCP  sport=1234 dport=4321 seq=0 ack=0 dataofs=5 reserved=0 flags=S window=8192 chksum=0xd064 urgptr=0 |>>>,\n",
       " <Ether  dst=66:77:88:99:aa:bb src=00:11:22:33:44:55 type=IPv4 |<IP  version=4 ihl=5 tos=0x0 len=40 id=1 flags= frag=0 ttl=64 proto=tcp chksum=0xd104 src=10.1.12.123 dst=10.0.137.79 |<TCP  sport=1234 dport=4321 seq=0 ack=0 dataofs=5 reserved=0 flags=S window=8192 chksum=0xd064 urgptr=0 |>>>,\n",
       " <Ether  dst=66:77:88:99:aa:bb src=00:11:22:33:44:55 type=IPv4 |<IP  version=4 ihl=5 tos=0x0 len=40 id=1 flags= frag=0 ttl=64 proto=tcp chksum=0xd104 src=10.1.12.123 dst=10.0.137.79 |<TCP  sport=1234 dport=4321 seq=0 ack=0 dataofs=5 reserved=0 flags=S window=8192 chksum=0xd064 urgptr=0 |>>>,\n",
       " <Ether  dst=66:77:88:99:aa:bb src=00:11:22:33:44:55 type=IPv4 |<IP  version=4 ihl=5 tos=0x0 len=40 id=1 flags= frag=0 ttl=64 proto=tcp chksum=0xd104 src=10.1.12.123 dst=10.0.137.79 |<TCP  sport=1234 dport=4321 seq=0 ack=0 dataofs=5 reserved=0 flags=S window=8192 chksum=0xd064 urgptr=0 |>>>,\n",
       " <Ether  dst=66:77:88:99:aa:bb src=00:11:22:33:44:55 type=IPv4 |<IP  version=4 ihl=5 tos=0x0 len=40 id=1 flags= frag=0 ttl=64 proto=tcp chksum=0xd104 src=10.1.12.123 dst=10.0.137.79 |<TCP  sport=1234 dport=4321 seq=0 ack=0 dataofs=5 reserved=0 flags=S window=8192 chksum=0xd064 urgptr=0 |>>>,\n",
       " <Ether  dst=66:77:88:99:aa:bb src=00:11:22:33:44:55 type=IPv4 |<IP  version=4 ihl=5 tos=0x0 len=40 id=1 flags= frag=0 ttl=64 proto=tcp chksum=0xd104 src=10.1.12.123 dst=10.0.137.79 |<TCP  sport=1234 dport=4321 seq=0 ack=0 dataofs=5 reserved=0 flags=S window=8192 chksum=0xd064 urgptr=0 |>>>,\n",
       " <Ether  dst=66:77:88:99:aa:bb src=00:11:22:33:44:55 type=IPv4 |<IP  version=4 ihl=5 tos=0x0 len=40 id=1 flags= frag=0 ttl=64 proto=tcp chksum=0xd104 src=10.1.12.123 dst=10.0.137.79 |<TCP  sport=1234 dport=4321 seq=0 ack=0 dataofs=5 reserved=0 flags=S window=8192 chksum=0xd064 urgptr=0 |>>>,\n",
       " <Ether  dst=66:77:88:99:aa:bb src=00:11:22:33:44:55 type=IPv4 |<IP  version=4 ihl=5 tos=0x0 len=40 id=1 flags= frag=0 ttl=64 proto=tcp chksum=0xd104 src=10.1.12.123 dst=10.0.137.79 |<TCP  sport=1234 dport=4321 seq=0 ack=0 dataofs=5 reserved=0 flags=S window=8192 chksum=0xd064 urgptr=0 |>>>,\n",
       " <Ether  dst=66:77:88:99:aa:bb src=00:11:22:33:44:55 type=IPv4 |<IP  version=4 ihl=5 tos=0x0 len=40 id=1 flags= frag=0 ttl=64 proto=tcp chksum=0xd104 src=10.1.12.123 dst=10.0.137.79 |<TCP  sport=1234 dport=4321 seq=0 ack=0 dataofs=5 reserved=0 flags=S window=8192 chksum=0xd064 urgptr=0 |>>>,\n",
       " <Ether  dst=66:77:88:99:aa:bb src=00:11:22:33:44:55 type=IPv4 |<IP  version=4 ihl=5 tos=0x0 len=40 id=1 flags= frag=0 ttl=64 proto=tcp chksum=0xd104 src=10.1.12.123 dst=10.0.137.79 |<TCP  sport=1234 dport=4321 seq=0 ack=0 dataofs=5 reserved=0 flags=S window=8192 chksum=0xd064 urgptr=0 |>>>,\n",
       " <Ether  dst=66:77:88:99:aa:bb src=00:11:22:33:44:55 type=IPv4 |<IP  version=4 ihl=5 tos=0x0 len=40 id=1 flags= frag=0 ttl=64 proto=tcp chksum=0xd104 src=10.1.12.123 dst=10.0.137.79 |<TCP  sport=1234 dport=4321 seq=0 ack=0 dataofs=5 reserved=0 flags=S window=8192 chksum=0xd064 urgptr=0 |>>>,\n",
       " <Ether  dst=66:77:88:99:aa:bb src=00:11:22:33:44:55 type=IPv4 |<IP  version=4 ihl=5 tos=0x0 len=40 id=1 flags= frag=0 ttl=64 proto=tcp chksum=0xd104 src=10.1.12.123 dst=10.0.137.79 |<TCP  sport=1234 dport=4321 seq=0 ack=0 dataofs=5 reserved=0 flags=S window=8192 chksum=0xd064 urgptr=0 |>>>,\n",
       " <Ether  dst=66:77:88:99:aa:bb src=00:11:22:33:44:55 type=IPv4 |<IP  version=4 ihl=5 tos=0x0 len=40 id=1 flags= frag=0 ttl=64 proto=tcp chksum=0xd104 src=10.1.12.123 dst=10.0.137.79 |<TCP  sport=1234 dport=4321 seq=0 ack=0 dataofs=5 reserved=0 flags=S window=8192 chksum=0xd064 urgptr=0 |>>>,\n",
       " <Ether  dst=66:77:88:99:aa:bb src=00:11:22:33:44:55 type=IPv4 |<IP  version=4 ihl=5 tos=0x0 len=40 id=1 flags= frag=0 ttl=64 proto=tcp chksum=0xd104 src=10.1.12.123 dst=10.0.137.79 |<TCP  sport=1234 dport=4321 seq=0 ack=0 dataofs=5 reserved=0 flags=S window=8192 chksum=0xd064 urgptr=0 |>>>,\n",
       " <Ether  dst=66:77:88:99:aa:bb src=00:11:22:33:44:55 type=IPv4 |<IP  version=4 ihl=5 tos=0x0 len=40 id=1 flags= frag=0 ttl=64 proto=tcp chksum=0xd104 src=10.1.12.123 dst=10.0.137.79 |<TCP  sport=1234 dport=4321 seq=0 ack=0 dataofs=5 reserved=0 flags=S window=8192 chksum=0xd064 urgptr=0 |>>>,\n",
       " <Ether  dst=66:77:88:99:aa:bb src=00:11:22:33:44:55 type=IPv4 |<IP  version=4 ihl=5 tos=0x0 len=40 id=1 flags= frag=0 ttl=64 proto=tcp chksum=0xd104 src=10.1.12.123 dst=10.0.137.79 |<TCP  sport=1234 dport=4321 seq=0 ack=0 dataofs=5 reserved=0 flags=S window=8192 chksum=0xd064 urgptr=0 |>>>,\n",
       " <Ether  dst=66:77:88:99:aa:bb src=00:11:22:33:44:55 type=IPv4 |<IP  version=4 ihl=5 tos=0x0 len=40 id=1 flags= frag=0 ttl=64 proto=tcp chksum=0xd104 src=10.1.12.123 dst=10.0.137.79 |<TCP  sport=1234 dport=4321 seq=0 ack=0 dataofs=5 reserved=0 flags=S window=8192 chksum=0xd064 urgptr=0 |>>>,\n",
       " <Ether  dst=66:77:88:99:aa:bb src=00:11:22:33:44:55 type=IPv4 |<IP  version=4 ihl=5 tos=0x0 len=40 id=1 flags= frag=0 ttl=64 proto=tcp chksum=0xd104 src=10.1.12.123 dst=10.0.137.79 |<TCP  sport=1234 dport=4321 seq=0 ack=0 dataofs=5 reserved=0 flags=S window=8192 chksum=0xd064 urgptr=0 |>>>,\n",
       " <Ether  dst=66:77:88:99:aa:bb src=00:11:22:33:44:55 type=IPv4 |<IP  version=4 ihl=5 tos=0x0 len=40 id=1 flags= frag=0 ttl=64 proto=tcp chksum=0xd104 src=10.1.12.123 dst=10.0.137.79 |<TCP  sport=1234 dport=4321 seq=0 ack=0 dataofs=5 reserved=0 flags=S window=8192 chksum=0xd064 urgptr=0 |>>>,\n",
       " <Ether  dst=66:77:88:99:aa:bb src=00:11:22:33:44:55 type=IPv4 |<IP  version=4 ihl=5 tos=0x0 len=40 id=1 flags= frag=0 ttl=64 proto=tcp chksum=0xd104 src=10.1.12.123 dst=10.0.137.79 |<TCP  sport=1234 dport=4321 seq=0 ack=0 dataofs=5 reserved=0 flags=S window=8192 chksum=0xd064 urgptr=0 |>>>,\n",
       " <Ether  dst=66:77:88:99:aa:bb src=00:11:22:33:44:55 type=IPv4 |<IP  version=4 ihl=5 tos=0x0 len=40 id=1 flags= frag=0 ttl=64 proto=tcp chksum=0xd104 src=10.1.12.123 dst=10.0.137.79 |<TCP  sport=1234 dport=4321 seq=0 ack=0 dataofs=5 reserved=0 flags=S window=8192 chksum=0xd064 urgptr=0 |>>>,\n",
       " <Ether  dst=66:77:88:99:aa:bb src=00:11:22:33:44:55 type=IPv4 |<IP  version=4 ihl=5 tos=0x0 len=40 id=1 flags= frag=0 ttl=64 proto=tcp chksum=0xd104 src=10.1.12.123 dst=10.0.137.79 |<TCP  sport=1234 dport=4321 seq=0 ack=0 dataofs=5 reserved=0 flags=S window=8192 chksum=0xd064 urgptr=0 |>>>]"
      ]
     },
     "execution_count": 10,
     "metadata": {},
     "output_type": "execute_result"
    }
   ],
   "source": [
    "ims_dst_packets"
   ]
  },
  {
   "cell_type": "code",
   "execution_count": 11,
   "metadata": {},
   "outputs": [
    {
     "data": {
      "text/plain": [
       "[<Ether  dst=2c:41:38:1d:e9:40 src=00:90:7f:3e:02:d0 type=IPv4 |<IP  version=4 ihl=5 tos=0x0 len=103 id=17453 flags= frag=0 ttl=126 proto=udp chksum=0x9996 src=172.16.128.169 dst=172.16.133.248 |<UDP  sport=4321 dport=snmp len=83 chksum=0x9082 |<SNMP  version='v1' 0x0 <ASN1_INTEGER[0]> community=<ASN1_STRING[b'public']> PDU=<SNMPget  id=0x491c2f5 <ASN1_INTEGER[76661493]> error='no_error' 0x0 <ASN1_INTEGER[0]> error_index=0x0 <ASN1_INTEGER[0]> varbindlist=[<SNMPvarbind  oid=<ASN1_OID['.1.3.6.1.2.1.2.2.1.10.18']> value=<ASN1_NULL[0]> noSuchObject=None noSuchInstance=None endOfMibView=None |>, <SNMPvarbind  oid=<ASN1_OID['.1.3.6.1.2.1.2.2.1.16.18']> value=<ASN1_NULL[0]> noSuchObject=None noSuchInstance=None endOfMibView=None |>, <SNMPvarbind  oid=<ASN1_OID['.1.3.6.1.2.1.1.3.0']> value=<ASN1_NULL[0]> noSuchObject=None noSuchInstance=None endOfMibView=None |>] |> |>>>>,\n",
       " <Ether  dst=00:90:7f:3e:02:d0 src=2c:41:38:1d:e9:40 type=IPv4 |<IP  version=4 ihl=5 tos=0x0 len=115 id=62980 flags= frag=0 ttl=64 proto=udp chksum=0x25b3 src=172.16.133.248 dst=172.16.128.169 |<UDP  sport=snmp dport=4321 len=95 chksum=0xfeea |<SNMP  version='v1' 0x0 <ASN1_INTEGER[0]> community=<ASN1_STRING[b'public']> PDU=<SNMPresponse  id=0x491c2f5 <ASN1_INTEGER[76661493]> error='no_error' 0x0 <ASN1_INTEGER[0]> error_index=0x0 <ASN1_INTEGER[0]> varbindlist=[<SNMPvarbind  oid=<ASN1_OID['.1.3.6.1.2.1.2.2.1.10.18']> value=0x2745029c <ASN1_COUNTER32[658834076]> noSuchObject=None noSuchInstance=None endOfMibView=None |>, <SNMPvarbind  oid=<ASN1_OID['.1.3.6.1.2.1.2.2.1.16.18']> value=0x3ea39841 <ASN1_COUNTER32[1050908737]> noSuchObject=None noSuchInstance=None endOfMibView=None |>, <SNMPvarbind  oid=<ASN1_OID['.1.3.6.1.2.1.1.3.0']> value=0x1f4b8a6 <ASN1_TIME_TICKS[32815270]> noSuchObject=None noSuchInstance=None endOfMibView=None |>] |> |>>>>,\n",
       " <Ether  dst=66:77:88:99:aa:bb src=00:11:22:33:44:55 type=IPv4 |<IP  version=4 ihl=5 tos=0x0 len=40 id=1 flags= frag=0 ttl=64 proto=tcp chksum=0xd104 src=10.1.12.123 dst=10.0.137.79 |<TCP  sport=1234 dport=4321 seq=0 ack=0 dataofs=5 reserved=0 flags=S window=8192 chksum=0xd064 urgptr=0 |>>>,\n",
       " <Ether  dst=66:77:88:99:aa:bb src=00:11:22:33:44:55 type=IPv4 |<IP  version=4 ihl=5 tos=0x0 len=40 id=1 flags= frag=0 ttl=64 proto=tcp chksum=0xd104 src=10.0.137.79 dst=10.1.12.123 |<TCP  sport=4321 dport=1234 seq=0 ack=0 dataofs=5 reserved=0 flags=S window=8192 chksum=0xd064 urgptr=0 |>>>,\n",
       " <Ether  dst=66:77:88:99:aa:bb src=00:11:22:33:44:55 type=IPv4 |<IP  version=4 ihl=5 tos=0x0 len=40 id=1 flags= frag=0 ttl=64 proto=tcp chksum=0xd104 src=10.1.12.123 dst=10.0.137.79 |<TCP  sport=1234 dport=4321 seq=0 ack=0 dataofs=5 reserved=0 flags=S window=8192 chksum=0xd064 urgptr=0 |>>>,\n",
       " <Ether  dst=66:77:88:99:aa:bb src=00:11:22:33:44:55 type=IPv4 |<IP  version=4 ihl=5 tos=0x0 len=40 id=1 flags= frag=0 ttl=64 proto=tcp chksum=0xd104 src=10.1.12.123 dst=10.0.137.79 |<TCP  sport=1234 dport=4321 seq=0 ack=0 dataofs=5 reserved=0 flags=S window=8192 chksum=0xd064 urgptr=0 |>>>,\n",
       " <Ether  dst=66:77:88:99:aa:bb src=00:11:22:33:44:55 type=IPv4 |<IP  version=4 ihl=5 tos=0x0 len=40 id=1 flags= frag=0 ttl=64 proto=tcp chksum=0xd104 src=10.1.12.123 dst=10.0.137.79 |<TCP  sport=1234 dport=4321 seq=0 ack=0 dataofs=5 reserved=0 flags=S window=8192 chksum=0xd064 urgptr=0 |>>>,\n",
       " <Ether  dst=66:77:88:99:aa:bb src=00:11:22:33:44:55 type=IPv4 |<IP  version=4 ihl=5 tos=0x0 len=40 id=1 flags= frag=0 ttl=64 proto=tcp chksum=0xd104 src=10.1.12.123 dst=10.0.137.79 |<TCP  sport=1234 dport=4321 seq=0 ack=0 dataofs=5 reserved=0 flags=S window=8192 chksum=0xd064 urgptr=0 |>>>,\n",
       " <Ether  dst=66:77:88:99:aa:bb src=00:11:22:33:44:55 type=IPv4 |<IP  version=4 ihl=5 tos=0x0 len=64 id=1 flags= frag=0 ttl=64 proto=tcp chksum=0xd0ec src=10.0.137.79 dst=10.1.12.123 |<TCP  sport=4321 dport=1234 seq=0 ack=0 dataofs=5 reserved=0 flags=S window=8192 chksum=0x5b9c urgptr=0 |<Raw  load=b'course = Embedded_system' |>>>>,\n",
       " <Ether  dst=66:77:88:99:aa:bb src=00:11:22:33:44:55 type=IPv4 |<IP  version=4 ihl=5 tos=0x0 len=40 id=1 flags= frag=0 ttl=64 proto=tcp chksum=0xd104 src=10.0.137.79 dst=10.1.12.123 |<TCP  sport=4321 dport=1234 seq=0 ack=0 dataofs=5 reserved=0 flags=S window=8192 chksum=0xd064 urgptr=0 |>>>,\n",
       " <Ether  dst=66:77:88:99:aa:bb src=00:11:22:33:44:55 type=IPv4 |<IP  version=4 ihl=5 tos=0x0 len=40 id=1 flags= frag=0 ttl=64 proto=tcp chksum=0xd104 src=10.1.12.123 dst=10.0.137.79 |<TCP  sport=1234 dport=4321 seq=0 ack=0 dataofs=5 reserved=0 flags=S window=8192 chksum=0xd064 urgptr=0 |>>>,\n",
       " <Ether  dst=66:77:88:99:aa:bb src=00:11:22:33:44:55 type=IPv4 |<IP  version=4 ihl=5 tos=0x0 len=40 id=1 flags= frag=0 ttl=64 proto=tcp chksum=0xd104 src=10.0.137.79 dst=10.1.12.123 |<TCP  sport=4321 dport=1234 seq=0 ack=0 dataofs=5 reserved=0 flags=S window=8192 chksum=0xd064 urgptr=0 |>>>,\n",
       " <Ether  dst=66:77:88:99:aa:bb src=00:11:22:33:44:55 type=IPv4 |<IP  version=4 ihl=5 tos=0x0 len=40 id=1 flags= frag=0 ttl=64 proto=tcp chksum=0xd104 src=10.0.137.79 dst=10.1.12.123 |<TCP  sport=4321 dport=1234 seq=0 ack=0 dataofs=5 reserved=0 flags=S window=8192 chksum=0xd064 urgptr=0 |>>>,\n",
       " <Ether  dst=66:77:88:99:aa:bb src=00:11:22:33:44:55 type=IPv4 |<IP  version=4 ihl=5 tos=0x0 len=40 id=1 flags= frag=0 ttl=64 proto=tcp chksum=0xd104 src=10.0.137.79 dst=10.1.12.123 |<TCP  sport=4321 dport=1234 seq=0 ack=0 dataofs=5 reserved=0 flags=S window=8192 chksum=0xd064 urgptr=0 |>>>,\n",
       " <Ether  dst=66:77:88:99:aa:bb src=00:11:22:33:44:55 type=IPv4 |<IP  version=4 ihl=5 tos=0x0 len=40 id=1 flags= frag=0 ttl=64 proto=tcp chksum=0xd104 src=10.1.12.123 dst=10.0.137.79 |<TCP  sport=1234 dport=4321 seq=0 ack=0 dataofs=5 reserved=0 flags=S window=8192 chksum=0xd064 urgptr=0 |>>>,\n",
       " <Ether  dst=66:77:88:99:aa:bb src=00:11:22:33:44:55 type=IPv4 |<IP  version=4 ihl=5 tos=0x0 len=40 id=1 flags= frag=0 ttl=64 proto=tcp chksum=0xd104 src=10.1.12.123 dst=10.0.137.79 |<TCP  sport=1234 dport=4321 seq=0 ack=0 dataofs=5 reserved=0 flags=S window=8192 chksum=0xd064 urgptr=0 |>>>,\n",
       " <Ether  dst=66:77:88:99:aa:bb src=00:11:22:33:44:55 type=IPv4 |<IP  version=4 ihl=5 tos=0x0 len=40 id=1 flags= frag=0 ttl=64 proto=tcp chksum=0xd104 src=10.0.137.79 dst=10.1.12.123 |<TCP  sport=4321 dport=1234 seq=0 ack=0 dataofs=5 reserved=0 flags=S window=8192 chksum=0xd064 urgptr=0 |>>>,\n",
       " <Ether  dst=66:77:88:99:aa:bb src=00:11:22:33:44:55 type=IPv4 |<IP  version=4 ihl=5 tos=0x0 len=40 id=1 flags= frag=0 ttl=64 proto=tcp chksum=0xd104 src=10.1.12.123 dst=10.0.137.79 |<TCP  sport=1234 dport=4321 seq=0 ack=0 dataofs=5 reserved=0 flags=S window=8192 chksum=0xd064 urgptr=0 |>>>,\n",
       " <Ether  dst=66:77:88:99:aa:bb src=00:11:22:33:44:55 type=IPv4 |<IP  version=4 ihl=5 tos=0x0 len=40 id=1 flags= frag=0 ttl=64 proto=tcp chksum=0xd104 src=10.0.137.79 dst=10.1.12.123 |<TCP  sport=4321 dport=1234 seq=0 ack=0 dataofs=5 reserved=0 flags=S window=8192 chksum=0xd064 urgptr=0 |>>>,\n",
       " <Ether  dst=66:77:88:99:aa:bb src=00:11:22:33:44:55 type=IPv4 |<IP  version=4 ihl=5 tos=0x0 len=40 id=1 flags= frag=0 ttl=64 proto=tcp chksum=0xd104 src=10.0.137.79 dst=10.1.12.123 |<TCP  sport=4321 dport=1234 seq=0 ack=0 dataofs=5 reserved=0 flags=S window=8192 chksum=0xd064 urgptr=0 |>>>,\n",
       " <Ether  dst=66:77:88:99:aa:bb src=00:11:22:33:44:55 type=IPv4 |<IP  version=4 ihl=5 tos=0x0 len=40 id=1 flags= frag=0 ttl=64 proto=tcp chksum=0xd104 src=10.0.137.79 dst=10.1.12.123 |<TCP  sport=4321 dport=1234 seq=0 ack=0 dataofs=5 reserved=0 flags=S window=8192 chksum=0xd064 urgptr=0 |>>>,\n",
       " <Ether  dst=66:77:88:99:aa:bb src=00:11:22:33:44:55 type=IPv4 |<IP  version=4 ihl=5 tos=0x0 len=40 id=1 flags= frag=0 ttl=64 proto=tcp chksum=0xd104 src=10.0.137.79 dst=10.1.12.123 |<TCP  sport=4321 dport=1234 seq=0 ack=0 dataofs=5 reserved=0 flags=S window=8192 chksum=0xd064 urgptr=0 |>>>,\n",
       " <Ether  dst=66:77:88:99:aa:bb src=00:11:22:33:44:55 type=IPv4 |<IP  version=4 ihl=5 tos=0x0 len=40 id=1 flags= frag=0 ttl=64 proto=tcp chksum=0xd104 src=10.1.12.123 dst=10.0.137.79 |<TCP  sport=1234 dport=4321 seq=0 ack=0 dataofs=5 reserved=0 flags=S window=8192 chksum=0xd064 urgptr=0 |>>>,\n",
       " <Ether  dst=66:77:88:99:aa:bb src=00:11:22:33:44:55 type=IPv4 |<IP  version=4 ihl=5 tos=0x0 len=40 id=1 flags= frag=0 ttl=64 proto=tcp chksum=0xd104 src=10.1.12.123 dst=10.0.137.79 |<TCP  sport=1234 dport=4321 seq=0 ack=0 dataofs=5 reserved=0 flags=S window=8192 chksum=0xd064 urgptr=0 |>>>,\n",
       " <Ether  dst=66:77:88:99:aa:bb src=00:11:22:33:44:55 type=IPv4 |<IP  version=4 ihl=5 tos=0x0 len=40 id=1 flags= frag=0 ttl=64 proto=tcp chksum=0xd104 src=10.1.12.123 dst=10.0.137.79 |<TCP  sport=1234 dport=4321 seq=0 ack=0 dataofs=5 reserved=0 flags=S window=8192 chksum=0xd064 urgptr=0 |>>>,\n",
       " <Ether  dst=66:77:88:99:aa:bb src=00:11:22:33:44:55 type=IPv4 |<IP  version=4 ihl=5 tos=0x0 len=40 id=1 flags= frag=0 ttl=64 proto=tcp chksum=0xd104 src=10.1.12.123 dst=10.0.137.79 |<TCP  sport=1234 dport=4321 seq=0 ack=0 dataofs=5 reserved=0 flags=S window=8192 chksum=0xd064 urgptr=0 |>>>,\n",
       " <Ether  dst=66:77:88:99:aa:bb src=00:11:22:33:44:55 type=IPv4 |<IP  version=4 ihl=5 tos=0x0 len=40 id=1 flags= frag=0 ttl=64 proto=tcp chksum=0xd104 src=10.1.12.123 dst=10.0.137.79 |<TCP  sport=1234 dport=4321 seq=0 ack=0 dataofs=5 reserved=0 flags=S window=8192 chksum=0xd064 urgptr=0 |>>>,\n",
       " <Ether  dst=66:77:88:99:aa:bb src=00:11:22:33:44:55 type=IPv4 |<IP  version=4 ihl=5 tos=0x0 len=40 id=1 flags= frag=0 ttl=64 proto=tcp chksum=0xd104 src=10.1.12.123 dst=10.0.137.79 |<TCP  sport=1234 dport=4321 seq=0 ack=0 dataofs=5 reserved=0 flags=S window=8192 chksum=0xd064 urgptr=0 |>>>,\n",
       " <Ether  dst=66:77:88:99:aa:bb src=00:11:22:33:44:55 type=IPv4 |<IP  version=4 ihl=5 tos=0x0 len=40 id=1 flags= frag=0 ttl=64 proto=tcp chksum=0xd104 src=10.1.12.123 dst=10.0.137.79 |<TCP  sport=1234 dport=4321 seq=0 ack=0 dataofs=5 reserved=0 flags=S window=8192 chksum=0xd064 urgptr=0 |>>>,\n",
       " <Ether  dst=66:77:88:99:aa:bb src=00:11:22:33:44:55 type=IPv4 |<IP  version=4 ihl=5 tos=0x0 len=40 id=1 flags= frag=0 ttl=64 proto=tcp chksum=0xd104 src=10.1.12.123 dst=10.0.137.79 |<TCP  sport=1234 dport=4321 seq=0 ack=0 dataofs=5 reserved=0 flags=S window=8192 chksum=0xd064 urgptr=0 |>>>,\n",
       " <Ether  dst=66:77:88:99:aa:bb src=00:11:22:33:44:55 type=IPv4 |<IP  version=4 ihl=5 tos=0x0 len=40 id=1 flags= frag=0 ttl=64 proto=tcp chksum=0xd104 src=10.1.12.123 dst=10.0.137.79 |<TCP  sport=1234 dport=4321 seq=0 ack=0 dataofs=5 reserved=0 flags=S window=8192 chksum=0xd064 urgptr=0 |>>>,\n",
       " <Ether  dst=66:77:88:99:aa:bb src=00:11:22:33:44:55 type=IPv4 |<IP  version=4 ihl=5 tos=0x0 len=40 id=1 flags= frag=0 ttl=64 proto=tcp chksum=0xd104 src=10.0.137.79 dst=10.1.12.123 |<TCP  sport=4321 dport=1234 seq=0 ack=0 dataofs=5 reserved=0 flags=S window=8192 chksum=0xd064 urgptr=0 |>>>,\n",
       " <Ether  dst=66:77:88:99:aa:bb src=00:11:22:33:44:55 type=IPv4 |<IP  version=4 ihl=5 tos=0x0 len=40 id=1 flags= frag=0 ttl=64 proto=tcp chksum=0xd104 src=10.1.12.123 dst=10.0.137.79 |<TCP  sport=1234 dport=4321 seq=0 ack=0 dataofs=5 reserved=0 flags=S window=8192 chksum=0xd064 urgptr=0 |>>>,\n",
       " <Ether  dst=66:77:88:99:aa:bb src=00:11:22:33:44:55 type=IPv4 |<IP  version=4 ihl=5 tos=0x0 len=40 id=1 flags= frag=0 ttl=64 proto=tcp chksum=0xd104 src=10.1.12.123 dst=10.0.137.79 |<TCP  sport=1234 dport=4321 seq=0 ack=0 dataofs=5 reserved=0 flags=S window=8192 chksum=0xd064 urgptr=0 |>>>,\n",
       " <Ether  dst=66:77:88:99:aa:bb src=00:11:22:33:44:55 type=IPv4 |<IP  version=4 ihl=5 tos=0x0 len=40 id=1 flags= frag=0 ttl=64 proto=tcp chksum=0xd104 src=10.1.12.123 dst=10.0.137.79 |<TCP  sport=1234 dport=4321 seq=0 ack=0 dataofs=5 reserved=0 flags=S window=8192 chksum=0xd064 urgptr=0 |>>>,\n",
       " <Ether  dst=66:77:88:99:aa:bb src=00:11:22:33:44:55 type=IPv4 |<IP  version=4 ihl=5 tos=0x0 len=40 id=1 flags= frag=0 ttl=64 proto=tcp chksum=0xd104 src=10.0.137.79 dst=10.1.12.123 |<TCP  sport=4321 dport=1234 seq=0 ack=0 dataofs=5 reserved=0 flags=S window=8192 chksum=0xd064 urgptr=0 |>>>,\n",
       " <Ether  dst=66:77:88:99:aa:bb src=00:11:22:33:44:55 type=IPv4 |<IP  version=4 ihl=5 tos=0x0 len=40 id=1 flags= frag=0 ttl=64 proto=tcp chksum=0xd104 src=10.1.12.123 dst=10.0.137.79 |<TCP  sport=1234 dport=4321 seq=0 ack=0 dataofs=5 reserved=0 flags=S window=8192 chksum=0xd064 urgptr=0 |>>>,\n",
       " <Ether  dst=66:77:88:99:aa:bb src=00:11:22:33:44:55 type=IPv4 |<IP  version=4 ihl=5 tos=0x0 len=40 id=1 flags= frag=0 ttl=64 proto=tcp chksum=0xd104 src=10.0.137.79 dst=10.1.12.123 |<TCP  sport=4321 dport=1234 seq=0 ack=0 dataofs=5 reserved=0 flags=S window=8192 chksum=0xd064 urgptr=0 |>>>,\n",
       " <Ether  dst=66:77:88:99:aa:bb src=00:11:22:33:44:55 type=IPv4 |<IP  version=4 ihl=5 tos=0x0 len=40 id=1 flags= frag=0 ttl=64 proto=tcp chksum=0xd104 src=10.1.12.123 dst=10.0.137.79 |<TCP  sport=1234 dport=4321 seq=0 ack=0 dataofs=5 reserved=0 flags=S window=8192 chksum=0xd064 urgptr=0 |>>>,\n",
       " <Ether  dst=66:77:88:99:aa:bb src=00:11:22:33:44:55 type=IPv4 |<IP  version=4 ihl=5 tos=0x0 len=40 id=1 flags= frag=0 ttl=64 proto=tcp chksum=0xd104 src=10.1.12.123 dst=10.0.137.79 |<TCP  sport=1234 dport=4321 seq=0 ack=0 dataofs=5 reserved=0 flags=S window=8192 chksum=0xd064 urgptr=0 |>>>,\n",
       " <Ether  dst=66:77:88:99:aa:bb src=00:11:22:33:44:55 type=IPv4 |<IP  version=4 ihl=5 tos=0x0 len=40 id=1 flags= frag=0 ttl=64 proto=tcp chksum=0xd104 src=10.0.137.79 dst=10.1.12.123 |<TCP  sport=4321 dport=1234 seq=0 ack=0 dataofs=5 reserved=0 flags=S window=8192 chksum=0xd064 urgptr=0 |>>>,\n",
       " <Ether  dst=66:77:88:99:aa:bb src=00:11:22:33:44:55 type=IPv4 |<IP  version=4 ihl=5 tos=0x0 len=40 id=1 flags= frag=0 ttl=64 proto=tcp chksum=0xd104 src=10.0.137.79 dst=10.1.12.123 |<TCP  sport=4321 dport=1234 seq=0 ack=0 dataofs=5 reserved=0 flags=S window=8192 chksum=0xd064 urgptr=0 |>>>,\n",
       " <Ether  dst=66:77:88:99:aa:bb src=00:11:22:33:44:55 type=IPv4 |<IP  version=4 ihl=5 tos=0x0 len=40 id=1 flags= frag=0 ttl=64 proto=tcp chksum=0xd104 src=10.1.12.123 dst=10.0.137.79 |<TCP  sport=1234 dport=4321 seq=0 ack=0 dataofs=5 reserved=0 flags=S window=8192 chksum=0xd064 urgptr=0 |>>>,\n",
       " <Ether  dst=66:77:88:99:aa:bb src=00:11:22:33:44:55 type=IPv4 |<IP  version=4 ihl=5 tos=0x0 len=40 id=1 flags= frag=0 ttl=64 proto=tcp chksum=0xd104 src=10.1.12.123 dst=10.0.137.79 |<TCP  sport=1234 dport=4321 seq=0 ack=0 dataofs=5 reserved=0 flags=S window=8192 chksum=0xd064 urgptr=0 |>>>,\n",
       " <Ether  dst=66:77:88:99:aa:bb src=00:11:22:33:44:55 type=IPv4 |<IP  version=4 ihl=5 tos=0x0 len=40 id=1 flags= frag=0 ttl=64 proto=tcp chksum=0xd104 src=10.0.137.79 dst=10.1.12.123 |<TCP  sport=4321 dport=1234 seq=0 ack=0 dataofs=5 reserved=0 flags=S window=8192 chksum=0xd064 urgptr=0 |>>>,\n",
       " <Ether  dst=66:77:88:99:aa:bb src=00:11:22:33:44:55 type=IPv4 |<IP  version=4 ihl=5 tos=0x0 len=40 id=1 flags= frag=0 ttl=64 proto=tcp chksum=0xd104 src=10.1.12.123 dst=10.0.137.79 |<TCP  sport=1234 dport=4321 seq=0 ack=0 dataofs=5 reserved=0 flags=S window=8192 chksum=0xd064 urgptr=0 |>>>,\n",
       " <Ether  dst=66:77:88:99:aa:bb src=00:11:22:33:44:55 type=IPv4 |<IP  version=4 ihl=5 tos=0x0 len=40 id=1 flags= frag=0 ttl=64 proto=tcp chksum=0xd104 src=10.1.12.123 dst=10.0.137.79 |<TCP  sport=1234 dport=4321 seq=0 ack=0 dataofs=5 reserved=0 flags=S window=8192 chksum=0xd064 urgptr=0 |>>>,\n",
       " <Ether  dst=66:77:88:99:aa:bb src=00:11:22:33:44:55 type=IPv4 |<IP  version=4 ihl=5 tos=0x0 len=40 id=1 flags= frag=0 ttl=64 proto=tcp chksum=0xd104 src=10.0.137.79 dst=10.1.12.123 |<TCP  sport=4321 dport=1234 seq=0 ack=0 dataofs=5 reserved=0 flags=S window=8192 chksum=0xd064 urgptr=0 |>>>,\n",
       " <Ether  dst=66:77:88:99:aa:bb src=00:11:22:33:44:55 type=IPv4 |<IP  version=4 ihl=5 tos=0x0 len=40 id=1 flags= frag=0 ttl=64 proto=tcp chksum=0xd104 src=10.0.137.79 dst=10.1.12.123 |<TCP  sport=4321 dport=1234 seq=0 ack=0 dataofs=5 reserved=0 flags=S window=8192 chksum=0xd064 urgptr=0 |>>>,\n",
       " <Ether  dst=66:77:88:99:aa:bb src=00:11:22:33:44:55 type=IPv4 |<IP  version=4 ihl=5 tos=0x0 len=40 id=1 flags= frag=0 ttl=64 proto=tcp chksum=0xd104 src=10.0.137.79 dst=10.1.12.123 |<TCP  sport=4321 dport=1234 seq=0 ack=0 dataofs=5 reserved=0 flags=S window=8192 chksum=0xd064 urgptr=0 |>>>,\n",
       " <Ether  dst=66:77:88:99:aa:bb src=00:11:22:33:44:55 type=IPv4 |<IP  version=4 ihl=5 tos=0x0 len=40 id=1 flags= frag=0 ttl=64 proto=tcp chksum=0xd104 src=10.1.12.123 dst=10.0.137.79 |<TCP  sport=1234 dport=4321 seq=0 ack=0 dataofs=5 reserved=0 flags=S window=8192 chksum=0xd064 urgptr=0 |>>>,\n",
       " <Ether  dst=66:77:88:99:aa:bb src=00:11:22:33:44:55 type=IPv4 |<IP  version=4 ihl=5 tos=0x0 len=40 id=1 flags= frag=0 ttl=64 proto=tcp chksum=0xd104 src=10.1.12.123 dst=10.0.137.79 |<TCP  sport=1234 dport=4321 seq=0 ack=0 dataofs=5 reserved=0 flags=S window=8192 chksum=0xd064 urgptr=0 |>>>]"
      ]
     },
     "execution_count": 11,
     "metadata": {},
     "output_type": "execute_result"
    }
   ],
   "source": [
    "port_packets"
   ]
  },
  {
   "cell_type": "code",
   "execution_count": 12,
   "metadata": {},
   "outputs": [
    {
     "data": {
      "text/plain": [
       "(52, 30, 69)"
      ]
     },
     "execution_count": 12,
     "metadata": {},
     "output_type": "execute_result"
    }
   ],
   "source": [
    "len(port_packets), len(ims_dst_packets), super_users"
   ]
  },
  {
   "cell_type": "code",
   "execution_count": 13,
   "metadata": {},
   "outputs": [
    {
     "data": {
      "text/plain": [
       "(2970, 1620)"
      ]
     },
     "execution_count": 13,
     "metadata": {},
     "output_type": "execute_result"
    }
   ],
   "source": [
    "sum([len(packet) for packet in port_packets]), sum([len(packet) for packet in ims_dst_packets])"
   ]
  },
  {
   "cell_type": "code",
   "execution_count": 14,
   "metadata": {},
   "outputs": [
    {
     "name": "stdout",
     "output_type": "stream",
     "text": [
      "###[ Ethernet ]###\n",
      "  dst       = 66:77:88:99:aa:bb\n",
      "  src       = 00:11:22:33:44:55\n",
      "  type      = IPv4\n",
      "###[ IP ]###\n",
      "     version   = 4\n",
      "     ihl       = 5\n",
      "     tos       = 0x0\n",
      "     len       = 64\n",
      "     id        = 1\n",
      "     flags     = \n",
      "     frag      = 0\n",
      "     ttl       = 64\n",
      "     proto     = tcp\n",
      "     chksum    = 0xd0ec\n",
      "     src       = 10.0.137.79\n",
      "     dst       = 10.1.12.123\n",
      "     \\options   \\\n",
      "###[ TCP ]###\n",
      "        sport     = 4321\n",
      "        dport     = 1234\n",
      "        seq       = 0\n",
      "        ack       = 0\n",
      "        dataofs   = 5\n",
      "        reserved  = 0\n",
      "        flags     = S\n",
      "        window    = 8192\n",
      "        chksum    = 0x5b9c\n",
      "        urgptr    = 0\n",
      "        options   = []\n",
      "###[ Raw ]###\n",
      "           load      = b'course = Embedded_system'\n",
      "\n"
     ]
    }
   ],
   "source": [
    "port_packets[8].show()"
   ]
  },
  {
   "cell_type": "code",
   "execution_count": 15,
   "metadata": {},
   "outputs": [
    {
     "name": "stdout",
     "output_type": "stream",
     "text": [
      "Q1: Unique Packets Destined to IMS server: 30\n",
      "Q3: Total data transferred on port 4321: 2970 bytes\n",
      "Q4: Total number of SuperUsers: 69\n"
     ]
    }
   ],
   "source": [
    "# Print Results\n",
    "print(f\"Q1: Unique Packets Destined to IMS server: {len(ims_dst_packets)}\")\n",
    "print(f\"Q3: Total data transferred on port 4321: {sum(len(pkt) for pkt in port_packets)} bytes\")\n",
    "print(f\"Q4: Total number of SuperUsers: {super_users}\")"
   ]
  },
  {
   "cell_type": "code",
   "execution_count": 16,
   "metadata": {},
   "outputs": [
    {
     "name": "stdout",
     "output_type": "stream",
     "text": [
      "course = Embedded_system\n"
     ]
    }
   ],
   "source": [
    "# Print the packet with the course information\n",
    "for ims_pkt in all_ims_packets:\n",
    "    if Raw in ims_pkt:\n",
    "        payload = ims_pkt[Raw].load.decode(errors='ignore')\n",
    "        if 'course' in payload:\n",
    "            print(payload)\n",
    "            break"
   ]
  },
  {
   "cell_type": "code",
   "execution_count": null,
   "metadata": {},
   "outputs": [],
   "source": []
  }
 ],
 "metadata": {
  "kernelspec": {
   "display_name": "base",
   "language": "python",
   "name": "python3"
  },
  "language_info": {
   "codemirror_mode": {
    "name": "ipython",
    "version": 3
   },
   "file_extension": ".py",
   "mimetype": "text/x-python",
   "name": "python",
   "nbconvert_exporter": "python",
   "pygments_lexer": "ipython3",
   "version": "3.9.16"
  }
 },
 "nbformat": 4,
 "nbformat_minor": 2
}
